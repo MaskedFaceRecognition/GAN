{
  "nbformat": 4,
  "nbformat_minor": 0,
  "metadata": {
    "colab": {
      "name": "glcic.ipynb",
      "provenance": [],
      "collapsed_sections": []
    },
    "kernelspec": {
      "name": "python3",
      "display_name": "Python 3"
    },
    "accelerator": "GPU"
  },
  "cells": [
    {
      "cell_type": "markdown",
      "metadata": {
        "id": "nIRsFee915XR"
      },
      "source": [
        "깃허브에서 glclc를 가져온다. 맨 처음 한번만 시작"
      ]
    },
    {
      "cell_type": "code",
      "metadata": {
        "colab": {
          "base_uri": "https://localhost:8080/"
        },
        "id": "lBM_sW5Pt05W",
        "outputId": "93b98384-7f6d-46a3-befb-c8fba54593e4"
      },
      "source": [
        "!git clone https://github.com/tadax/glcic.git"
      ],
      "execution_count": null,
      "outputs": [
        {
          "output_type": "stream",
          "text": [
            "Cloning into 'glcic'...\n",
            "remote: Enumerating objects: 63, done.\u001b[K\n",
            "remote: Total 63 (delta 0), reused 0 (delta 0), pack-reused 63\u001b[K\n",
            "Unpacking objects: 100% (63/63), done.\n"
          ],
          "name": "stdout"
        }
      ]
    },
    {
      "cell_type": "markdown",
      "metadata": {
        "id": "ttZ7q4VU1-1j"
      },
      "source": [
        "코드가 있는 content/glclc로 이동"
      ]
    },
    {
      "cell_type": "code",
      "metadata": {
        "id": "NHrczxAN0cWJ",
        "colab": {
          "base_uri": "https://localhost:8080/"
        },
        "outputId": "e13f27b4-3954-4bdd-c1e0-dbb493881d8f"
      },
      "source": [
        "cd ~/../content/glcic"
      ],
      "execution_count": null,
      "outputs": [
        {
          "output_type": "stream",
          "text": [
            "/content/glcic\n"
          ],
          "name": "stdout"
        }
      ]
    },
    {
      "cell_type": "markdown",
      "metadata": {
        "id": "TjS4B0CyweEQ"
      },
      "source": [
        "data 폴더 안에 있는 to_npy.py를 실행시켜 test.npy와 train.npy 파일을 만든다."
      ]
    },
    {
      "cell_type": "code",
      "metadata": {
        "colab": {
          "base_uri": "https://localhost:8080/"
        },
        "id": "bwx1tIPZy4rH",
        "outputId": "6d6f3a02-89b6-4f68-a880-64ed7a9eab66"
      },
      "source": [
        "cd data"
      ],
      "execution_count": null,
      "outputs": [
        {
          "output_type": "stream",
          "text": [
            "/content/glcic/data\n"
          ],
          "name": "stdout"
        }
      ]
    },
    {
      "cell_type": "code",
      "metadata": {
        "id": "nEx-D9YAy-ZB"
      },
      "source": [
        "import os\r\n",
        "if not os.path.exists('./images'):\r\n",
        "    os.mkdir('./images')"
      ],
      "execution_count": null,
      "outputs": []
    },
    {
      "cell_type": "markdown",
      "metadata": {
        "id": "eupieRbRzQD_"
      },
      "source": [
        "~/glcic/data/images 디렉토리 안에 128 x 128 사이즈 RGB이미지 파일을 넣어줘야 한다."
      ]
    },
    {
      "cell_type": "code",
      "metadata": {
        "id": "jQGGGA7TzAju"
      },
      "source": [
        "!python to_npy.py"
      ],
      "execution_count": null,
      "outputs": []
    },
    {
      "cell_type": "markdown",
      "metadata": {
        "id": "mABlowCy2cFv"
      },
      "source": [
        ""
      ]
    },
    {
      "cell_type": "code",
      "metadata": {
        "colab": {
          "base_uri": "https://localhost:8080/"
        },
        "id": "KPSn2VAuuS7O",
        "outputId": "bdfd83b8-c9c2-4b44-a63c-2a6af73db33d"
      },
      "source": [
        "cd ../src"
      ],
      "execution_count": null,
      "outputs": [
        {
          "output_type": "stream",
          "text": [
            "/content/glcic/src\n"
          ],
          "name": "stdout"
        }
      ]
    },
    {
      "cell_type": "markdown",
      "metadata": {
        "id": "PJ4hAx5z2mu7"
      },
      "source": [
        "tensorflow 1.14버전에서 돌아가니 버전 바꿔주기."
      ]
    },
    {
      "cell_type": "code",
      "metadata": {
        "id": "R9QhRJu8xjiY"
      },
      "source": [
        "!pip install tensorflow==1.14"
      ],
      "execution_count": null,
      "outputs": []
    },
    {
      "cell_type": "markdown",
      "metadata": {
        "id": "wEuOiK7b29qQ"
      },
      "source": [
        "1. layer.py 2. network.py 3. train.py를 차례로 돌려준다."
      ]
    },
    {
      "cell_type": "code",
      "metadata": {
        "id": "ruQFC02MyQ5R"
      },
      "source": [
        "!python layer.py"
      ],
      "execution_count": null,
      "outputs": []
    },
    {
      "cell_type": "code",
      "metadata": {
        "id": "qQKFD1B9yJ63"
      },
      "source": [
        "!python network.py"
      ],
      "execution_count": null,
      "outputs": []
    },
    {
      "cell_type": "code",
      "metadata": {
        "colab": {
          "base_uri": "https://localhost:8080/"
        },
        "id": "Yndl4vrVuVko",
        "outputId": "d9acb65c-453f-4dd7-f4c8-a4f2654f889a"
      },
      "source": [
        "!python train.py"
      ],
      "execution_count": null,
      "outputs": [
        {
          "output_type": "stream",
          "text": [
            "python3: can't open file 'train.py': [Errno 2] No such file or directory\n"
          ],
          "name": "stdout"
        }
      ]
    },
    {
      "cell_type": "markdown",
      "metadata": {
        "id": "MgH0pptGschb"
      },
      "source": [
        "to_npy로 바꿀때 실행하기 전"
      ]
    },
    {
      "cell_type": "markdown",
      "metadata": {
        "id": "XVMChbRhvgeG"
      },
      "source": [
        "images 폴더내 파일 삭제할 때 사용"
      ]
    },
    {
      "cell_type": "code",
      "metadata": {
        "colab": {
          "base_uri": "https://localhost:8080/"
        },
        "id": "WGMvJihxrra2",
        "outputId": "14d94e37-b940-4f38-c6f4-5a1b63ab7719"
      },
      "source": [
        "cd ../data/images"
      ],
      "execution_count": null,
      "outputs": [
        {
          "output_type": "stream",
          "text": [
            "/content/glcic/data/images\n"
          ],
          "name": "stdout"
        }
      ]
    },
    {
      "cell_type": "code",
      "metadata": {
        "id": "iLpSrR7uzeg5"
      },
      "source": [
        "!rm *.jpg"
      ],
      "execution_count": null,
      "outputs": []
    },
    {
      "cell_type": "code",
      "metadata": {
        "colab": {
          "base_uri": "https://localhost:8080/"
        },
        "id": "aITMNBhErvAd",
        "outputId": "a7aaa942-1913-467e-e400-641383af20d7"
      },
      "source": [
        "cd ../src"
      ],
      "execution_count": null,
      "outputs": [
        {
          "output_type": "stream",
          "text": [
            "/content/glcic/src\n"
          ],
          "name": "stdout"
        }
      ]
    }
  ]
}